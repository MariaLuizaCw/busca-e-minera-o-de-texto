{
 "cells": [
  {
   "cell_type": "code",
   "execution_count": 1,
   "metadata": {},
   "outputs": [],
   "source": [
    "from xml.dom import minidom\n",
    "from unidecode import unidecode\n",
    "import sys\n",
    "import pandas as pd\n",
    "sys.path.insert(1, '../utils')\n",
    "from read_config import read_config_file"
   ]
  },
  {
   "cell_type": "code",
   "execution_count": 2,
   "metadata": {},
   "outputs": [],
   "source": [
    "inputs_path = '../inputs/'\n",
    "results_path = '../results/'"
   ]
  },
  {
   "cell_type": "markdown",
   "metadata": {},
   "source": [
    "## Read TXT config file"
   ]
  },
  {
   "cell_type": "code",
   "execution_count": 3,
   "metadata": {},
   "outputs": [
    {
     "data": {
      "text/plain": [
       "{'LEIA': ['cfquery.xml'],\n",
       " 'CONSULTAS': ['consultas.csv'],\n",
       " 'ESPERADOS': ['esperados.csv']}"
      ]
     },
     "execution_count": 3,
     "metadata": {},
     "output_type": "execute_result"
    }
   ],
   "source": [
    "config_dict = {}\n",
    "read_config_file(inputs_path + 'PC.CFG', config_dict)\n",
    "config_dict"
   ]
  },
  {
   "cell_type": "markdown",
   "metadata": {},
   "source": [
    "## Read XML"
   ]
  },
  {
   "cell_type": "markdown",
   "metadata": {},
   "source": [
    "- parse xml"
   ]
  },
  {
   "cell_type": "code",
   "execution_count": 11,
   "metadata": {},
   "outputs": [],
   "source": [
    "xml_file = inputs_path + config_dict['LEIA'][0]\n",
    "parsed_xml = minidom.parse(xml_file)\n",
    "query_elements = parsed_xml.getElementsByTagName('QUERY')"
   ]
  },
  {
   "cell_type": "markdown",
   "metadata": {},
   "source": [
    "- Generate Queries CSV"
   ]
  },
  {
   "cell_type": "code",
   "execution_count": 15,
   "metadata": {},
   "outputs": [],
   "source": [
    "xml_data_queries = []\n",
    "for query in query_elements:\n",
    "    query_number = query.getElementsByTagName('QueryNumber')[0].firstChild.nodeValue\n",
    "    query_text = query.getElementsByTagName('QueryText')[0].firstChild.nodeValue.strip()\n",
    "    query_text = unidecode(query_text.replace(';', ' ')).lower()\n",
    "    xml_data_queries.append([query_number, query_text])\n",
    "\n",
    "df_queries = pd.DataFrame(xml_data_queries, columns=['QueryNumber', 'QueryText'])\n",
    "\n",
    "df_queries.to_csv(results_path + config_dict['CONSULTAS'][0], index=False, sep=';')"
   ]
  },
  {
   "cell_type": "code",
   "execution_count": 16,
   "metadata": {},
   "outputs": [
    {
     "data": {
      "text/html": [
       "<div>\n",
       "<style scoped>\n",
       "    .dataframe tbody tr th:only-of-type {\n",
       "        vertical-align: middle;\n",
       "    }\n",
       "\n",
       "    .dataframe tbody tr th {\n",
       "        vertical-align: top;\n",
       "    }\n",
       "\n",
       "    .dataframe thead th {\n",
       "        text-align: right;\n",
       "    }\n",
       "</style>\n",
       "<table border=\"1\" class=\"dataframe\">\n",
       "  <thead>\n",
       "    <tr style=\"text-align: right;\">\n",
       "      <th></th>\n",
       "      <th>QueryNumber</th>\n",
       "      <th>QueryText</th>\n",
       "    </tr>\n",
       "  </thead>\n",
       "  <tbody>\n",
       "    <tr>\n",
       "      <th>0</th>\n",
       "      <td>00001</td>\n",
       "      <td>what are the effects of calcium on the physica...</td>\n",
       "    </tr>\n",
       "    <tr>\n",
       "      <th>1</th>\n",
       "      <td>00002</td>\n",
       "      <td>can one distinguish between the effects of muc...</td>\n",
       "    </tr>\n",
       "    <tr>\n",
       "      <th>2</th>\n",
       "      <td>00003</td>\n",
       "      <td>how are salivary glycoproteins from cf patient...</td>\n",
       "    </tr>\n",
       "    <tr>\n",
       "      <th>3</th>\n",
       "      <td>00004</td>\n",
       "      <td>what is the lipid composition of cf respirator...</td>\n",
       "    </tr>\n",
       "    <tr>\n",
       "      <th>4</th>\n",
       "      <td>00005</td>\n",
       "      <td>is cf mucus abnormal?</td>\n",
       "    </tr>\n",
       "  </tbody>\n",
       "</table>\n",
       "</div>"
      ],
      "text/plain": [
       "  QueryNumber                                          QueryText\n",
       "0       00001  what are the effects of calcium on the physica...\n",
       "1       00002  can one distinguish between the effects of muc...\n",
       "2       00003  how are salivary glycoproteins from cf patient...\n",
       "3       00004  what is the lipid composition of cf respirator...\n",
       "4       00005                              is cf mucus abnormal?"
      ]
     },
     "execution_count": 16,
     "metadata": {},
     "output_type": "execute_result"
    }
   ],
   "source": [
    "df_queries.head()"
   ]
  },
  {
   "cell_type": "markdown",
   "metadata": {},
   "source": [
    "- Generate Expected Csv"
   ]
  },
  {
   "cell_type": "code",
   "execution_count": 21,
   "metadata": {},
   "outputs": [],
   "source": [
    "# Extrai as informações do XML\n",
    "xml_data_docs = []\n",
    "for query in parsed_xml.getElementsByTagName('QUERY'):\n",
    "    query_number = query.getElementsByTagName('QueryNumber')[0].firstChild.nodeValue\n",
    "    for record in query.getElementsByTagName('Records')[0].getElementsByTagName('Item'):\n",
    "        doc_number = record.firstChild.nodeValue\n",
    "        doc_votes = record.getAttribute('score')\n",
    "        xml_data_docs.append((query_number, doc_number, doc_votes))\n",
    "\n",
    "# Cria um DataFrame com as informações extraídas do XML\n",
    "df_docs = pd.DataFrame(xml_data_docs, columns=['QueryNumber', 'DocNumber', 'DocVotes'])\n",
    "df_docs.to_csv(results_path + config_dict['ESPERADOS'][0], index=False, sep=';')"
   ]
  },
  {
   "cell_type": "code",
   "execution_count": 22,
   "metadata": {},
   "outputs": [
    {
     "data": {
      "text/html": [
       "<div>\n",
       "<style scoped>\n",
       "    .dataframe tbody tr th:only-of-type {\n",
       "        vertical-align: middle;\n",
       "    }\n",
       "\n",
       "    .dataframe tbody tr th {\n",
       "        vertical-align: top;\n",
       "    }\n",
       "\n",
       "    .dataframe thead th {\n",
       "        text-align: right;\n",
       "    }\n",
       "</style>\n",
       "<table border=\"1\" class=\"dataframe\">\n",
       "  <thead>\n",
       "    <tr style=\"text-align: right;\">\n",
       "      <th></th>\n",
       "      <th>QueryNumber</th>\n",
       "      <th>DocNumber</th>\n",
       "      <th>DocVotes</th>\n",
       "    </tr>\n",
       "  </thead>\n",
       "  <tbody>\n",
       "    <tr>\n",
       "      <th>0</th>\n",
       "      <td>00001</td>\n",
       "      <td>139</td>\n",
       "      <td>1222</td>\n",
       "    </tr>\n",
       "    <tr>\n",
       "      <th>1</th>\n",
       "      <td>00001</td>\n",
       "      <td>151</td>\n",
       "      <td>2211</td>\n",
       "    </tr>\n",
       "    <tr>\n",
       "      <th>2</th>\n",
       "      <td>00001</td>\n",
       "      <td>166</td>\n",
       "      <td>0001</td>\n",
       "    </tr>\n",
       "    <tr>\n",
       "      <th>3</th>\n",
       "      <td>00001</td>\n",
       "      <td>311</td>\n",
       "      <td>0001</td>\n",
       "    </tr>\n",
       "    <tr>\n",
       "      <th>4</th>\n",
       "      <td>00001</td>\n",
       "      <td>370</td>\n",
       "      <td>1010</td>\n",
       "    </tr>\n",
       "  </tbody>\n",
       "</table>\n",
       "</div>"
      ],
      "text/plain": [
       "  QueryNumber DocNumber DocVotes\n",
       "0       00001       139     1222\n",
       "1       00001       151     2211\n",
       "2       00001       166     0001\n",
       "3       00001       311     0001\n",
       "4       00001       370     1010"
      ]
     },
     "execution_count": 22,
     "metadata": {},
     "output_type": "execute_result"
    }
   ],
   "source": [
    "df_docs.head()"
   ]
  }
 ],
 "metadata": {
  "language_info": {
   "name": "python"
  },
  "orig_nbformat": 4
 },
 "nbformat": 4,
 "nbformat_minor": 2
}
