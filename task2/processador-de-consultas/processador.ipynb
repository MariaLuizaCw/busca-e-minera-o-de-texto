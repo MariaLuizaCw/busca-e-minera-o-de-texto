{
 "cells": [
  {
   "cell_type": "code",
   "execution_count": 47,
   "metadata": {},
   "outputs": [],
   "source": [
    "from xml.dom import minidom\n",
    "import pandas as pd\n",
    "from unidecode import unidecode"
   ]
  },
  {
   "cell_type": "code",
   "execution_count": 31,
   "metadata": {},
   "outputs": [],
   "source": [
    "inputs_path = '../inputs/'\n",
    "results_path = '../results/'"
   ]
  },
  {
   "cell_type": "markdown",
   "metadata": {},
   "source": [
    "## Read TXT config file"
   ]
  },
  {
   "cell_type": "code",
   "execution_count": 76,
   "metadata": {},
   "outputs": [
    {
     "name": "stdout",
     "output_type": "stream",
     "text": [
      "LEIA=cfquery.xml\n",
      "\n",
      "CONSULTAS=consultas.csv\n",
      "\n",
      "ESPERADOS=esperados.csv\n"
     ]
    }
   ],
   "source": [
    "config_dict = {}\n",
    "with open(inputs_path + 'PC.CFG', \"r\") as config:\n",
    "    for line in config:\n",
    "        print(line)\n",
    "        if 'LEIA' in line:\n",
    "            config_dict['read_file'] = line.split('=')[1][:-1]\n",
    "        elif 'CONSULTAS' in line:\n",
    "            config_dict['consult_file'] = line.split('=')[1][:-1]\n",
    "        elif 'ESPERADOS' in line:\n",
    "            config_dict['expect_file'] = line.split('=')[1]\n",
    "    "
   ]
  },
  {
   "cell_type": "markdown",
   "metadata": {},
   "source": [
    "## Read XML"
   ]
  },
  {
   "cell_type": "code",
   "execution_count": 34,
   "metadata": {},
   "outputs": [],
   "source": [
    "xml_file = inputs_path + config_dict['read_file']"
   ]
  },
  {
   "cell_type": "markdown",
   "metadata": {},
   "source": [
    "- Remove ';' from file"
   ]
  },
  {
   "cell_type": "code",
   "execution_count": 35,
   "metadata": {},
   "outputs": [],
   "source": [
    "with open(xml_file, 'r') as infile:\n",
    "    data = infile.read().replace(';', '')\n",
    "    \n",
    "with open(xml_file, 'w') as outfile:\n",
    "    outfile.write(data)"
   ]
  },
  {
   "cell_type": "markdown",
   "metadata": {},
   "source": [
    "- parse xml"
   ]
  },
  {
   "cell_type": "code",
   "execution_count": 72,
   "metadata": {},
   "outputs": [],
   "source": [
    "parsed_xml = minidom.parse(xml_file)\n",
    "query_elements = parsed_xml.getElementsByTagName('QUERY')"
   ]
  },
  {
   "cell_type": "markdown",
   "metadata": {},
   "source": [
    "- Generate Queries CSV"
   ]
  },
  {
   "cell_type": "code",
   "execution_count": 71,
   "metadata": {},
   "outputs": [],
   "source": [
    "xml_data_queries = []\n",
    "for query in query_elements:\n",
    "    query_number = query.getElementsByTagName('QueryNumber')[0].firstChild.nodeValue\n",
    "    query_text = query.getElementsByTagName('QueryText')[0].firstChild.nodeValue.strip()\n",
    "    query_text = unidecode(query_text.replace('\\n', '')).lower()\n",
    "    xml_data_queries.append([query_number, query_text])\n",
    "\n",
    "df_queries = pd.DataFrame(xml_data_queries, columns=['QueryNumber', 'QueryText'])\n",
    "\n",
    "df_queries.to_csv(results_path + config_dict['consult_file'], index=False)"
   ]
  },
  {
   "cell_type": "markdown",
   "metadata": {},
   "source": [
    "- Generate Expected Csv"
   ]
  },
  {
   "cell_type": "code",
   "execution_count": 77,
   "metadata": {},
   "outputs": [],
   "source": [
    "# Extrai as informações do XML\n",
    "xml_data_docs = []\n",
    "for query in parsed_xml.getElementsByTagName('QUERY'):\n",
    "    query_number = query.getElementsByTagName('QueryNumber')[0].childNodes[0].data\n",
    "    for record in query.getElementsByTagName('Records')[0].getElementsByTagName('Item'):\n",
    "        doc_number = record.childNodes[0].data\n",
    "        doc_votes = record.getAttribute('score')\n",
    "        xml_data_docs.append((query_number, doc_number, doc_votes))\n",
    "\n",
    "# Cria um DataFrame com as informações extraídas do XML\n",
    "df_docs = pd.DataFrame(xml_data_docs, columns=['QueryNumber', 'DocNumber', 'DocVotes'])\n",
    "df_docs.to_csv(results_path + config_dict['expect_file'], index=False)"
   ]
  }
 ],
 "metadata": {
  "language_info": {
   "name": "python"
  },
  "orig_nbformat": 4
 },
 "nbformat": 4,
 "nbformat_minor": 2
}
