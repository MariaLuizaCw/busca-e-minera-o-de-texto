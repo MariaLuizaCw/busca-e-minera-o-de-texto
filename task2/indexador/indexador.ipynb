{
 "cells": [
  {
   "cell_type": "code",
   "execution_count": 2,
   "metadata": {},
   "outputs": [],
   "source": [
    "from xml.dom import minidom\n",
    "from unidecode import unidecode\n",
    "import sys\n",
    "import pandas as pd\n",
    "import numpy as np\n",
    "import json\n",
    "sys.path.insert(1, '../utils')\n",
    "from read_config import read_config_file"
   ]
  },
  {
   "cell_type": "code",
   "execution_count": 3,
   "metadata": {},
   "outputs": [],
   "source": [
    "inputs_path = '../inputs/'\n",
    "results_path = '../results/'"
   ]
  },
  {
   "cell_type": "markdown",
   "metadata": {},
   "source": [
    "## Read TXT config file"
   ]
  },
  {
   "cell_type": "code",
   "execution_count": 4,
   "metadata": {},
   "outputs": [
    {
     "data": {
      "text/plain": [
       "{'LEIA': ['lista.csv'], 'ESCREVA': ['modelo.json']}"
      ]
     },
     "execution_count": 4,
     "metadata": {},
     "output_type": "execute_result"
    }
   ],
   "source": [
    "config_dict = {}\n",
    "read_config_file(inputs_path + 'INDEX.CFG', config_dict)\n",
    "config_dict"
   ]
  },
  {
   "cell_type": "markdown",
   "metadata": {},
   "source": [
    "## Read GLI"
   ]
  },
  {
   "cell_type": "code",
   "execution_count": 5,
   "metadata": {},
   "outputs": [
    {
     "data": {
      "text/html": [
       "<div>\n",
       "<style scoped>\n",
       "    .dataframe tbody tr th:only-of-type {\n",
       "        vertical-align: middle;\n",
       "    }\n",
       "\n",
       "    .dataframe tbody tr th {\n",
       "        vertical-align: top;\n",
       "    }\n",
       "\n",
       "    .dataframe thead th {\n",
       "        text-align: right;\n",
       "    }\n",
       "</style>\n",
       "<table border=\"1\" class=\"dataframe\">\n",
       "  <thead>\n",
       "    <tr style=\"text-align: right;\">\n",
       "      <th></th>\n",
       "      <th>WORDS</th>\n",
       "      <th>RECORDS</th>\n",
       "    </tr>\n",
       "  </thead>\n",
       "  <tbody>\n",
       "    <tr>\n",
       "      <th>0</th>\n",
       "      <td>the</td>\n",
       "      <td>['00001', '00001', '00001', '00001', '00001', ...</td>\n",
       "    </tr>\n",
       "    <tr>\n",
       "      <th>1</th>\n",
       "      <td>significance</td>\n",
       "      <td>['00001', '00074', '00078', '00121', '00147', ...</td>\n",
       "    </tr>\n",
       "    <tr>\n",
       "      <th>2</th>\n",
       "      <td>of</td>\n",
       "      <td>['00001', '00001', '00001', '00001', '00001', ...</td>\n",
       "    </tr>\n",
       "    <tr>\n",
       "      <th>3</th>\n",
       "      <td>pseudomonas</td>\n",
       "      <td>['00001', '00001', '00001', '00007', '00008', ...</td>\n",
       "    </tr>\n",
       "    <tr>\n",
       "      <th>4</th>\n",
       "      <td>aeruginosa</td>\n",
       "      <td>['00001', '00001', '00001', '00006', '00006', ...</td>\n",
       "    </tr>\n",
       "  </tbody>\n",
       "</table>\n",
       "</div>"
      ],
      "text/plain": [
       "          WORDS                                            RECORDS\n",
       "0           the  ['00001', '00001', '00001', '00001', '00001', ...\n",
       "1  significance  ['00001', '00074', '00078', '00121', '00147', ...\n",
       "2            of  ['00001', '00001', '00001', '00001', '00001', ...\n",
       "3   pseudomonas  ['00001', '00001', '00001', '00007', '00008', ...\n",
       "4    aeruginosa  ['00001', '00001', '00001', '00006', '00006', ..."
      ]
     },
     "execution_count": 5,
     "metadata": {},
     "output_type": "execute_result"
    }
   ],
   "source": [
    "lista_df = pd.read_csv(results_path + config_dict['LEIA'][0], sep=';')\n",
    "lista_df.head()"
   ]
  },
  {
   "cell_type": "code",
   "execution_count": 6,
   "metadata": {},
   "outputs": [],
   "source": [
    "filtered_lista_df = lista_df[\n",
    "    (lista_df['WORDS'].str.len() >= 2) &\n",
    "    (lista_df['WORDS'].str.isalpha()) \n",
    "]"
   ]
  },
  {
   "cell_type": "markdown",
   "metadata": {},
   "source": [
    "\n",
    "#### TF-IDF paramters\n",
    "\n",
    "- N = number of documents\n",
    "- $n_j$ = number of documents with word j\n",
    "- $tf_{ij}$= frequency of j in i\n"
   ]
  },
  {
   "cell_type": "code",
   "execution_count": 7,
   "metadata": {},
   "outputs": [],
   "source": [
    "freq_dict = {}\n",
    "word_doc_dict = {}\n",
    "docs_max_freq = {}\n",
    "for index, row in filtered_lista_df.iterrows():\n",
    "    word = row['WORDS']\n",
    "    records = eval(row['RECORDS'])\n",
    "    \n",
    "    word_doc_dict[word] = len(set(records))\n",
    "    for doc in records:\n",
    "        if doc in  docs_max_freq:\n",
    "            docs_max_freq[doc] = max(docs_max_freq[doc], records.count(doc))\n",
    "        else:\n",
    "            docs_max_freq[doc] = records.count(doc)\n",
    "        freq_dict.setdefault(word, {})[doc] = records.count(doc)"
   ]
  },
  {
   "cell_type": "markdown",
   "metadata": {},
   "source": [
    "## Geneta Matrix with tf-idf as weights"
   ]
  },
  {
   "cell_type": "code",
   "execution_count": 8,
   "metadata": {},
   "outputs": [],
   "source": [
    "def tf_idf_default(word_doc_dict, freq_dict, docs_max_freq):\n",
    "    words_list = word_doc_dict.keys()\n",
    "    docs_list = docs_max_freq.keys()\n",
    "    N = len(docs_list)\n",
    "    tf_matrix = {}\n",
    "    for doc in docs_list:\n",
    "        for word in words_list:\n",
    "            if doc in freq_dict[word]:\n",
    "                tf_matrix.setdefault(word, {})[doc] = (freq_dict[word][doc]/docs_max_freq[doc]) * np.log(N/word_doc_dict[word])\n",
    "            else:\n",
    "                tf_matrix.setdefault(word, {})[doc] = 0 \n",
    "    return tf_matrix"
   ]
  },
  {
   "cell_type": "code",
   "execution_count": 12,
   "metadata": {},
   "outputs": [],
   "source": [
    "tf_matrix = tf_idf_default(word_doc_dict, freq_dict, docs_max_freq)\n",
    "tf_matrix_df = pd.DataFrame(tf_matrix)"
   ]
  },
  {
   "cell_type": "code",
   "execution_count": 71,
   "metadata": {},
   "outputs": [],
   "source": [
    "tf_matrix_df.to_csv(results_path + config_dict['ESCREVA'][0], sep=';')"
   ]
  }
 ],
 "metadata": {
  "language_info": {
   "name": "python"
  },
  "orig_nbformat": 4
 },
 "nbformat": 4,
 "nbformat_minor": 2
}
