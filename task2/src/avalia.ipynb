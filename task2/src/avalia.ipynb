{
 "cells": [
  {
   "cell_type": "code",
   "execution_count": 3,
   "metadata": {},
   "outputs": [],
   "source": [
    "import pandas as pd\n",
    "import numpy as np\n",
    "import matplotlib.pyplot as plt"
   ]
  },
  {
   "cell_type": "code",
   "execution_count": 4,
   "metadata": {},
   "outputs": [],
   "source": [
    "results_path = '../avalia/'"
   ]
  },
  {
   "cell_type": "markdown",
   "metadata": {},
   "source": [
    "## Read Results"
   ]
  },
  {
   "cell_type": "markdown",
   "metadata": {},
   "source": [
    "- results ordere by ranking"
   ]
  },
  {
   "cell_type": "code",
   "execution_count": 5,
   "metadata": {},
   "outputs": [],
   "source": [
    "result = pd.read_csv('../results/resultados.csv', sep=';')\n",
    "result['doc'] = result['Result'].str.replace(\"'\", \"\").str.split(', ', expand=True)[1].astype(int)"
   ]
  },
  {
   "cell_type": "code",
   "execution_count": 6,
   "metadata": {},
   "outputs": [],
   "source": [
    "result_stemmer = pd.read_csv('../results/resultados_stemmer.csv', sep=';')\n",
    "result_stemmer['doc'] = result_stemmer['Result'].str.replace(\"'\", \"\").str.split(', ', expand=True)[1].astype(int)"
   ]
  },
  {
   "cell_type": "code",
   "execution_count": 4,
   "metadata": {},
   "outputs": [
    {
     "data": {
      "text/html": [
       "<div>\n",
       "<style scoped>\n",
       "    .dataframe tbody tr th:only-of-type {\n",
       "        vertical-align: middle;\n",
       "    }\n",
       "\n",
       "    .dataframe tbody tr th {\n",
       "        vertical-align: top;\n",
       "    }\n",
       "\n",
       "    .dataframe thead th {\n",
       "        text-align: right;\n",
       "    }\n",
       "</style>\n",
       "<table border=\"1\" class=\"dataframe\">\n",
       "  <thead>\n",
       "    <tr style=\"text-align: right;\">\n",
       "      <th></th>\n",
       "      <th>QueryNumber</th>\n",
       "      <th>Result</th>\n",
       "      <th>doc</th>\n",
       "    </tr>\n",
       "  </thead>\n",
       "  <tbody>\n",
       "    <tr>\n",
       "      <th>1215</th>\n",
       "      <td>2</td>\n",
       "      <td>[1, '01197', 0.39932430829602683]</td>\n",
       "      <td>1197</td>\n",
       "    </tr>\n",
       "    <tr>\n",
       "      <th>1216</th>\n",
       "      <td>2</td>\n",
       "      <td>[2, '00333', 0.40721323905884554]</td>\n",
       "      <td>333</td>\n",
       "    </tr>\n",
       "    <tr>\n",
       "      <th>1217</th>\n",
       "      <td>2</td>\n",
       "      <td>[3, '00767', 0.4154448208992295]</td>\n",
       "      <td>767</td>\n",
       "    </tr>\n",
       "    <tr>\n",
       "      <th>1218</th>\n",
       "      <td>2</td>\n",
       "      <td>[4, '00176', 0.434097174590214]</td>\n",
       "      <td>176</td>\n",
       "    </tr>\n",
       "    <tr>\n",
       "      <th>1219</th>\n",
       "      <td>2</td>\n",
       "      <td>[5, '00986', 0.43861929397921473]</td>\n",
       "      <td>986</td>\n",
       "    </tr>\n",
       "  </tbody>\n",
       "</table>\n",
       "</div>"
      ],
      "text/plain": [
       "      QueryNumber                             Result   doc\n",
       "1215            2  [1, '01197', 0.39932430829602683]  1197\n",
       "1216            2  [2, '00333', 0.40721323905884554]   333\n",
       "1217            2   [3, '00767', 0.4154448208992295]   767\n",
       "1218            2    [4, '00176', 0.434097174590214]   176\n",
       "1219            2  [5, '00986', 0.43861929397921473]   986"
      ]
     },
     "execution_count": 4,
     "metadata": {},
     "output_type": "execute_result"
    }
   ],
   "source": [
    "result[result['QueryNumber'] == 2].head()"
   ]
  },
  {
   "cell_type": "code",
   "execution_count": 10,
   "metadata": {},
   "outputs": [
    {
     "data": {
      "text/html": [
       "<div>\n",
       "<style scoped>\n",
       "    .dataframe tbody tr th:only-of-type {\n",
       "        vertical-align: middle;\n",
       "    }\n",
       "\n",
       "    .dataframe tbody tr th {\n",
       "        vertical-align: top;\n",
       "    }\n",
       "\n",
       "    .dataframe thead th {\n",
       "        text-align: right;\n",
       "    }\n",
       "</style>\n",
       "<table border=\"1\" class=\"dataframe\">\n",
       "  <thead>\n",
       "    <tr style=\"text-align: right;\">\n",
       "      <th></th>\n",
       "      <th>QueryNumber</th>\n",
       "      <th>DocNumber</th>\n",
       "      <th>DocVotes</th>\n",
       "    </tr>\n",
       "  </thead>\n",
       "  <tbody>\n",
       "    <tr>\n",
       "      <th>34</th>\n",
       "      <td>2</td>\n",
       "      <td>169</td>\n",
       "      <td>1</td>\n",
       "    </tr>\n",
       "    <tr>\n",
       "      <th>35</th>\n",
       "      <td>2</td>\n",
       "      <td>434</td>\n",
       "      <td>2</td>\n",
       "    </tr>\n",
       "    <tr>\n",
       "      <th>36</th>\n",
       "      <td>2</td>\n",
       "      <td>454</td>\n",
       "      <td>1</td>\n",
       "    </tr>\n",
       "    <tr>\n",
       "      <th>37</th>\n",
       "      <td>2</td>\n",
       "      <td>498</td>\n",
       "      <td>1</td>\n",
       "    </tr>\n",
       "    <tr>\n",
       "      <th>38</th>\n",
       "      <td>2</td>\n",
       "      <td>499</td>\n",
       "      <td>1</td>\n",
       "    </tr>\n",
       "  </tbody>\n",
       "</table>\n",
       "</div>"
      ],
      "text/plain": [
       "    QueryNumber  DocNumber  DocVotes\n",
       "34            2        169         1\n",
       "35            2        434         2\n",
       "36            2        454         1\n",
       "37            2        498         1\n",
       "38            2        499         1"
      ]
     },
     "execution_count": 10,
     "metadata": {},
     "output_type": "execute_result"
    }
   ],
   "source": [
    "esperados = pd.read_csv('../results/esperados.csv', sep=';')\n",
    "esperados[esperados['QueryNumber'] == 2].head()"
   ]
  },
  {
   "cell_type": "markdown",
   "metadata": {},
   "source": [
    "## Calculate Precision x Recall Curve"
   ]
  },
  {
   "cell_type": "code",
   "execution_count": 20,
   "metadata": {},
   "outputs": [],
   "source": [
    "def precision_recall_graph(number_of_points, result, esperados, csv_name, plot_name):\n",
    "\n",
    "  queries_set = set(result['QueryNumber'].to_list())\n",
    "  queries_precisions = []\n",
    "  queries_recalls = []\n",
    "\n",
    "  for query in queries_set:\n",
    "    precisions = []\n",
    "    recalls = []\n",
    "    \n",
    "    relevant_documents = esperados.loc[esperados['QueryNumber'] == query, 'DocNumber'].to_list()\n",
    "    retrieveds = result.loc[result['QueryNumber'] == query, 'doc'].to_list()\n",
    "    \n",
    "    step = round(len(retrieveds)/number_of_points)\n",
    "    for p in range(number_of_points):\n",
    "      retrieveds_until = retrieveds[:(p+1)*step]\n",
    "\n",
    "      tp = len(set(relevant_documents).intersection(retrieveds_until))\n",
    "      \n",
    "      precisions.append(tp/len(retrieveds_until))\n",
    "      recalls.append(tp/len(relevant_documents))\n",
    "\n",
    "    queries_precisions.append(precisions)\n",
    "    queries_recalls.append(recalls)\n",
    "\n",
    "  mean_precisions = np.mean(np.array(queries_precisions), axis=0)\n",
    "  mean_recalls = np.mean(np.array(queries_recalls), axis=0)\n",
    "  \n",
    "  plt.scatter(mean_recalls, mean_precisions)\n",
    "  plt.title(f\"{number_of_points} Point precision recall\")\n",
    "  plt.xlabel('Recall')\n",
    "  plt.ylabel('Precision')\n",
    "  plt.savefig(results_path + plot_name)  \n",
    "  plt.show()\n",
    "  precision_recall_df = pd.DataFrame(np.array([mean_precisions, mean_recalls]).T, columns=[\"Precision\", \"Recall\"])\n",
    "  precision_recall_df.to_csv(results_path + csv_name, sep=\";\", index=False)"
   ]
  },
  {
   "cell_type": "markdown",
   "metadata": {},
   "source": [
    "- Precision Recall 11 points: with stemmer"
   ]
  },
  {
   "cell_type": "code",
   "execution_count": 21,
   "metadata": {},
   "outputs": [
    {
     "data": {
      "image/png": "[encoded data removed]",
      "text/plain": [
       "<Figure size 640x480 with 1 Axes>"
      ]
     },
     "metadata": {},
     "output_type": "display_data"
    }
   ],
   "source": [
    "precision_recall_graph(11, result_stemmer, esperados, \"11pontos-stemmer-1.csv\", \"11pontos-stemmer-2.pdf\")"
   ]
  },
  {
   "cell_type": "markdown",
   "metadata": {},
   "source": [
    "- Precision Recall 11 points: without stemmer"
   ]
  },
  {
   "cell_type": "code",
   "execution_count": 17,
   "metadata": {},
   "outputs": [
    {
     "data": {
      "image/png": "[encoded data removed]",
      "text/plain": [
       "<Figure size 640x480 with 1 Axes>"
      ]
     },
     "metadata": {},
     "output_type": "display_data"
    }
   ],
   "source": [
    "precision_recall_graph(11, result, esperados, f\"11pontos-nostemmer-1.csv\", \"11pontos-nostemmer-2.pdf\")"
   ]
  },
  {
   "cell_type": "markdown",
   "metadata": {},
   "source": [
    "## Calculate F1\n",
    "- For these calculation, consider that the documents retrived were the first 10 in ranking"
   ]
  },
  {
   "cell_type": "code",
   "execution_count": 25,
   "metadata": {},
   "outputs": [],
   "source": [
    "def calculate_f1(result, esperados):\n",
    "  precisions = []\n",
    "  recalls = []\n",
    "  queries_set = set(result['QueryNumber'].to_list())\n",
    "\n",
    "  for query in queries_set:\n",
    "    \n",
    "    relevant_documents = esperados.loc[esperados['QueryNumber'] == query, 'DocNumber'].to_list()\n",
    "    retrieveds_until = result.loc[result['QueryNumber'] == query, 'doc'].to_list()[:10]\n",
    "    \n",
    "    tp = len(set(relevant_documents).intersection(retrieveds_until))\n",
    "    \n",
    "    precisions.append(tp/len(retrieveds_until))\n",
    "    recalls.append(tp/len(relevant_documents))\n",
    "\n",
    "  mean_precisions = np.mean(np.array(precisions))\n",
    "  mean_recalls = np.mean(np.array(recalls))\n",
    "\n",
    "\n",
    "  f1 = (2 * mean_precisions * mean_recalls)/(mean_precisions + mean_recalls)\n",
    "  return f1"
   ]
  },
  {
   "cell_type": "code",
   "execution_count": 26,
   "metadata": {},
   "outputs": [
    {
     "data": {
      "text/plain": [
       "(8.584418776463501, 9.607675841792808)"
      ]
     },
     "execution_count": 26,
     "metadata": {},
     "output_type": "execute_result"
    }
   ],
   "source": [
    "calculate_f1(result, esperados)*100, calculate_f1(result_stemmer, esperados)*100"
   ]
  },
  {
   "cell_type": "markdown",
   "metadata": {},
   "source": [
    "## Calculate Precision@K"
   ]
  },
  {
   "cell_type": "code",
   "execution_count": 28,
   "metadata": {},
   "outputs": [],
   "source": [
    "def precision_at_k(result, esperados, query, k):\n",
    "  relevant_documents = esperados.loc[esperados['QueryNumber'] == query, 'DocNumber'].to_list()\n",
    "  retrieveds_until = result.loc[result['QueryNumber'] == query, 'doc'].to_list()[:k]\n",
    "  tp = len(set(relevant_documents).intersection(retrieveds_until))\n",
    "  return tp/len(retrieveds_until)\n",
    "\n",
    "def mean_precision_at_k(k, result, esperados):\n",
    "  precisions = []\n",
    "  queries_set = set(result['QueryNumber'].to_list())\n",
    "  for query in queries_set:\n",
    "    precisions.append(precision_at_k(result, esperados, query, k))\n",
    "\n",
    "  mean_precisions = np.mean(np.array(precisions))\n",
    "\n",
    "  return mean_precisions"
   ]
  },
  {
   "cell_type": "markdown",
   "metadata": {},
   "source": [
    "- Precision@5"
   ]
  },
  {
   "cell_type": "code",
   "execution_count": 29,
   "metadata": {},
   "outputs": [
    {
     "data": {
      "text/plain": [
       "(26.464646464646464, 26.666666666666668)"
      ]
     },
     "execution_count": 29,
     "metadata": {},
     "output_type": "execute_result"
    }
   ],
   "source": [
    "mean_precision_at_k(5, result, esperados)*100, mean_precision_at_k(5, result_stemmer, esperados)*100"
   ]
  },
  {
   "cell_type": "markdown",
   "metadata": {},
   "source": [
    "- Precision@10"
   ]
  },
  {
   "cell_type": "code",
   "execution_count": 30,
   "metadata": {},
   "outputs": [
    {
     "data": {
      "text/plain": [
       "(21.616161616161623, 23.93939393939394)"
      ]
     },
     "execution_count": 30,
     "metadata": {},
     "output_type": "execute_result"
    }
   ],
   "source": [
    "mean_precision_at_k(10, result, esperados)*100, mean_precision_at_k(10, result_stemmer, esperados)*100"
   ]
  },
  {
   "cell_type": "markdown",
   "metadata": {},
   "source": [
    "## Calculate Histogram R precision\n",
    "- comparative: query_precision_1 - query_precision_2\n",
    "- considering rank = 10"
   ]
  },
  {
   "cell_type": "code",
   "execution_count": 128,
   "metadata": {},
   "outputs": [
    {
     "data": {
      "image/png": "[encoded data removed]",
      "text/plain": [
       "<Figure size 432x288 with 1 Axes>"
      ]
     },
     "metadata": {
      "needs_background": "light"
     },
     "output_type": "display_data"
    }
   ],
   "source": [
    "def r_precisions_calc(result, esperados):\n",
    "  r_precisions = []\n",
    "  queries_set = set(result['QueryNumber'].to_list())\n",
    "  for query in queries_set:\n",
    "    relevant_documents = esperados.loc[esperados['QueryNumber'] == query, 'DocNumber'].to_list()\n",
    "    # Difference is that k is fixed to 10, as it is our ranking\n",
    "    retrieveds_until = result.loc[result['QueryNumber'] == query, 'doc'].to_list()[:10]\n",
    "\n",
    "    tp = len(set(relevant_documents).intersection(retrieveds_until))\n",
    "    r_precisions.append(tp/len(retrieveds_until))\n",
    "    \n",
    "  return queries_set, r_precisions\n",
    "\n",
    "queries_set, r_precisions = r_precisions_calc(result, esperados)\n",
    "\n",
    "r_precisions_df = pd.DataFrame({'r_precision': r_precisions, 'query': list(queries_set)})\n",
    "# r_precisions_df.to_csv(evaluations_dir + \"r-precision-stemmer-1.csv\", sep=\";\", index=False)\n",
    "\n",
    "plt.bar(list(queries_set),r_precisions)\n",
    "plt.title(\"R-Precision\")\n",
    "plt.xlabel(\"Query\")\n",
    "plt.ylabel(\"R-Precision\")\n",
    "plt.show()"
   ]
  },
  {
   "cell_type": "markdown",
   "metadata": {},
   "source": [
    "## Calculate MAP"
   ]
  },
  {
   "cell_type": "code",
   "execution_count": 144,
   "metadata": {},
   "outputs": [
    {
     "data": {
      "text/plain": [
       "7.783531628016907"
      ]
     },
     "execution_count": 144,
     "metadata": {},
     "output_type": "execute_result"
    }
   ],
   "source": [
    "def mean_average_precision(result, esperados):\n",
    "  rank_map = []\n",
    "  queries_set = set(result['QueryNumber'].to_list())\n",
    "  for query in queries_set:\n",
    "    precisions = []\n",
    "    relevant_documents = esperados.loc[esperados['QueryNumber'] == query, 'DocNumber'].to_list()\n",
    "    retrieveds = result.loc[result['QueryNumber'] == query, 'doc'].to_list()\n",
    "    \n",
    "    ks = []\n",
    "    for k, ret in enumerate(retrieveds):\n",
    "      if ret in relevant_documents:\n",
    "        ks.append(k)\n",
    "    \n",
    "    for k in ks:\n",
    "      precisions.append(precision_at_k(result, esperados, query, k+1))\n",
    "\n",
    "    rank_map.append(np.mean(np.array(precisions)))\n",
    "\n",
    "  map = np.mean(np.array(rank_map))\n",
    "\n",
    "  return map\n",
    "\n",
    "map = mean_average_precision(result, esperados)\n",
    "map*100"
   ]
  },
  {
   "cell_type": "markdown",
   "metadata": {},
   "source": [
    "## Calculate MRR"
   ]
  },
  {
   "cell_type": "code",
   "execution_count": 149,
   "metadata": {},
   "outputs": [
    {
     "data": {
      "text/plain": [
       "35.56677890011223"
      ]
     },
     "execution_count": 149,
     "metadata": {},
     "output_type": "execute_result"
    }
   ],
   "source": [
    "def mean_reciprocal_rank(result, esperados):\n",
    "  reciprocal_ranks = []\n",
    "  queries_set = set(result['QueryNumber'].to_list())\n",
    "  for query in queries_set:\n",
    "    relevant_documents = esperados.loc[esperados['QueryNumber'] == query, 'DocNumber'].to_list()\n",
    "    retrieveds = result.loc[result['QueryNumber'] == query, 'doc'].to_list()[:10]\n",
    "\n",
    "    reciprocal_rank = 0\n",
    "    for k, ret in enumerate(retrieveds):\n",
    "      if ret in relevant_documents:\n",
    "        reciprocal_rank = 1/(k + 1)\n",
    "        break\n",
    "      \n",
    "    reciprocal_ranks.append(reciprocal_rank)    \n",
    "\n",
    "  mean_reciprocal_rank = np.mean(reciprocal_ranks)\n",
    "\n",
    "  return mean_reciprocal_rank\n",
    "\n",
    "mrr = mean_reciprocal_rank(result, esperados)\n",
    "mrr*100"
   ]
  },
  {
   "cell_type": "markdown",
   "metadata": {},
   "source": [
    "## Discounted Cumulative Gain"
   ]
  },
  {
   "cell_type": "code",
   "execution_count": 7,
   "metadata": {},
   "outputs": [
    {
     "data": {
      "text/plain": [
       "3.3528116495541944"
      ]
     },
     "execution_count": 7,
     "metadata": {},
     "output_type": "execute_result"
    }
   ],
   "source": [
    "def mean_discounted_cumulative_gain(result, esperados):\n",
    "  discounted_cumulative_gains = []\n",
    "  queries_set = set(result['QueryNumber'].to_list())\n",
    "  \n",
    "  for query in queries_set:\n",
    "    dcg = 0\n",
    "    relevant_documents = esperados.loc[esperados['QueryNumber'] == query, 'DocNumber'].to_list()\n",
    "    scores = esperados.loc[esperados['QueryNumber'] == query, 'DocVotes'].to_list()\n",
    "    retrieveds_until = result.loc[result['QueryNumber'] == query, 'doc'].to_list()[:10] \n",
    "    \n",
    "    for k, ret in enumerate(retrieveds_until):\n",
    "      if ret in relevant_documents:\n",
    "        rel_pos = relevant_documents.index(ret)\n",
    "        score = scores[rel_pos]\n",
    "        if k == 0:\n",
    "          dcg += score\n",
    "        else:\n",
    "          dcg += score/np.log2(k+1)\n",
    "    discounted_cumulative_gains.append(dcg)\n",
    "  mean_dcg = np.mean(discounted_cumulative_gains)\n",
    "\n",
    "  return mean_dcg\n",
    "\n",
    "mean_dcg = mean_discounted_cumulative_gain(result, esperados)\n",
    "\n",
    "mean_dcg"
   ]
  },
  {
   "cell_type": "markdown",
   "metadata": {},
   "source": [
    "## Normalized Discounted Cumulative Gain"
   ]
  },
  {
   "cell_type": "code",
   "execution_count": 17,
   "metadata": {},
   "outputs": [
    {
     "data": {
      "text/plain": [
       "0.4036582855309668"
      ]
     },
     "execution_count": 17,
     "metadata": {},
     "output_type": "execute_result"
    }
   ],
   "source": [
    "discounted_cumulative_gains = []\n",
    "queries_set = set(result['QueryNumber'].to_list())\n",
    "  \n",
    "for query in queries_set:\n",
    "    dcg = 0\n",
    "    dcg_max = 0\n",
    "    relevant_documents = esperados.loc[esperados['QueryNumber'] == query, 'DocNumber'].to_list()\n",
    "    scores = esperados.loc[esperados['QueryNumber'] == query, 'DocVotes'].to_list()\n",
    "    retrieveds_until = result.loc[result['QueryNumber'] == query, 'doc'].to_list()[:10] \n",
    "    \n",
    "    scores_ret = []\n",
    "    for k, ret in enumerate(retrieveds_until):\n",
    "      if ret in relevant_documents:\n",
    "        rel_pos = relevant_documents.index(ret)\n",
    "        score = scores[rel_pos]\n",
    "        scores_ret.append(score)\n",
    "        if k == 0:\n",
    "          dcg += score\n",
    "        else:\n",
    "          dcg += score/np.log2(k+1)  \n",
    "    scores_ret_ord = np.sort(scores_ret)[::-1]\n",
    "    for i, score in enumerate(scores_ret_ord):\n",
    "        if i == 0:\n",
    "          dcg_max += score\n",
    "        else:\n",
    "          dcg_max += score/np.log2(i+1)  \n",
    "    if dcg_max > 0:\n",
    "      discounted_cumulative_gains.append(dcg/dcg_max)\n",
    "    else: \n",
    "      discounted_cumulative_gains.append(0)\n",
    " \n",
    "\n",
    "mean_dcg = np.mean(discounted_cumulative_gains)\n",
    "mean_dcg"
   ]
  }
 ],
 "metadata": {
  "language_info": {
   "name": "python"
  },
  "orig_nbformat": 4
 },
 "nbformat": 4,
 "nbformat_minor": 2
}
