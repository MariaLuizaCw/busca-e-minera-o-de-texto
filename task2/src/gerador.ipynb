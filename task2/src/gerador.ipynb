{
 "cells": [
  {
   "cell_type": "code",
   "execution_count": 35,
   "metadata": {},
   "outputs": [],
   "source": [
    "import pandas as pd\n",
    "from xml.dom import minidom\n",
    "import numpy as np\n",
    "from unidecode import unidecode\n",
    "sys.path.insert(1, '../utils')\n",
    "from read_config import read_config_file\n",
    "from nltk.tokenize import RegexpTokenizer"
   ]
  },
  {
   "cell_type": "code",
   "execution_count": 2,
   "metadata": {},
   "outputs": [],
   "source": [
    "inputs_path = '../inputs/'\n",
    "results_path = '../results/'"
   ]
  },
  {
   "cell_type": "markdown",
   "metadata": {},
   "source": [
    "## Read Config File"
   ]
  },
  {
   "cell_type": "code",
   "execution_count": 5,
   "metadata": {},
   "outputs": [
    {
     "data": {
      "text/plain": [
       "{'LEIA': ['cf74.xml',\n",
       "  'cf75.xml',\n",
       "  'cf76.xml',\n",
       "  'cf77.xml',\n",
       "  'cf78.xml',\n",
       "  'cf79.xml'],\n",
       " 'ESCREVA': ['lista.csv']}"
      ]
     },
     "execution_count": 5,
     "metadata": {},
     "output_type": "execute_result"
    }
   ],
   "source": [
    "config_dict = {}\n",
    "read_config_file(inputs_path + 'GLI.CFG', config_dict)\n",
    "config_dict"
   ]
  },
  {
   "cell_type": "markdown",
   "metadata": {},
   "source": [
    "## Parse XML"
   ]
  },
  {
   "cell_type": "code",
   "execution_count": 54,
   "metadata": {},
   "outputs": [],
   "source": [
    "records_data = []\n",
    "for xml_file in  config_dict['LEIA']:\n",
    "    parsed_xml = minidom.parse(inputs_path + xml_file)\n",
    "    records = parsed_xml.getElementsByTagName('RECORD')\n",
    "    \n",
    "    for record in records:\n",
    "        recordnum = record.getElementsByTagName('RECORDNUM')[0].firstChild.nodeValue.strip()\n",
    "        abstract = record.getElementsByTagName('ABSTRACT')\n",
    "        extract = record.getElementsByTagName('EXTRACT')\n",
    "        \n",
    "        if len(abstract) > 0:\n",
    "            text = unidecode(abstract[0].firstChild.nodeValue.strip().lower())\n",
    "        elif len(extract) > 0:\n",
    "            text = unidecode(extract[0].firstChild.nodeValue.strip().lower())\n",
    "        else:\n",
    "            text = ''\n",
    "            \n",
    "        records_data.append({'RECORDNUM': recordnum, 'TEXT': text})"
   ]
  },
  {
   "cell_type": "code",
   "execution_count": 55,
   "metadata": {},
   "outputs": [],
   "source": [
    "records_df = pd.DataFrame(records_data)"
   ]
  },
  {
   "cell_type": "markdown",
   "metadata": {},
   "source": [
    "## Generate List"
   ]
  },
  {
   "cell_type": "code",
   "execution_count": 56,
   "metadata": {},
   "outputs": [],
   "source": [
    "gli_dict = {}\n",
    "for index, row in records_df.iterrows():\n",
    "    text = row['TEXT']\n",
    "    recordnum = row['RECORDNUM']\n",
    "    tokenizer = RegexpTokenizer(r'\\w+')\n",
    "    words = tokenizer.tokenize(text)    \n",
    "    for w in words:\n",
    "        if w in gli_dict:\n",
    "            gli_dict[w].append(recordnum)\n",
    "        else:\n",
    "            gli_dict[w] = [recordnum]"
   ]
  },
  {
   "cell_type": "code",
   "execution_count": 62,
   "metadata": {},
   "outputs": [],
   "source": [
    "glig_df = pd.DataFrame({'WORDS': gli_dict.keys(), 'RECORDS': gli_dict.values()})\n",
    "\n",
    "glig_df.to_csv(results_path+config_dict['ESCREVA'][0], index=False, sep=';')"
   ]
  }
 ],
 "metadata": {
  "language_info": {
   "name": "python"
  },
  "orig_nbformat": 4
 },
 "nbformat": 4,
 "nbformat_minor": 2
}
