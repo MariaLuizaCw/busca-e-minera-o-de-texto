{
 "cells": [
  {
   "cell_type": "code",
   "execution_count": 1,
   "metadata": {},
   "outputs": [],
   "source": [
    "from processador import processador\n",
    "from gerador import gerador\n",
    "\n",
    "import pandas as pd\n",
    "import sys\n",
    "from xml.dom import minidom\n",
    "import numpy as np\n",
    "from nltk.stem.porter import PorterStemmer\n",
    "from unidecode import unidecode\n",
    "sys.path.insert(1, '../utils')\n",
    "from read_config import read_config_file\n",
    "from nltk.tokenize import RegexpTokenizer"
   ]
  },
  {
   "cell_type": "code",
   "execution_count": 2,
   "metadata": {},
   "outputs": [
    {
     "name": "stdout",
     "output_type": "stream",
     "text": [
      "Read Config File\n",
      "Parsed XML\n",
      "Generate Queries CSV\n",
      "  QueryNumber                                          QueryText\n",
      "0       00001  what are the effects of calcium on the physica...\n",
      "1       00002  can one distinguish between the effects of muc...\n",
      "2       00003  how are salivary glycoproteins from cf patient...\n",
      "3       00004  what is the lipid composition of cf respirator...\n",
      "4       00005                              is cf mucus abnormal?\n",
      "Parsed XML\n",
      "Generate Queries CSV\n",
      "  QueryNumber DocNumber  DocVotes\n",
      "0       00001       139         7\n",
      "1       00001       151         6\n",
      "2       00001       166         1\n",
      "3       00001       311         1\n",
      "4       00001       370         2\n"
     ]
    }
   ],
   "source": [
    "proc = processador(input_path='../inputs/', results_path='../results/')\n",
    "proc.generate_consultas()\n",
    "proc.generate_esperados()"
   ]
  },
  {
   "cell_type": "code",
   "execution_count": 4,
   "metadata": {},
   "outputs": [
    {
     "name": "stdout",
     "output_type": "stream",
     "text": [
      "Read Config File\n",
      "Generete List With STEMMER\n",
      "           WORDS                                            RECORDS\n",
      "0            the  [00001, 00001, 00001, 00001, 00001, 00001, 000...\n",
      "1       signific  [00001, 00006, 00019, 00024, 00030, 00047, 000...\n",
      "2     pseudomona  [00001, 00001, 00001, 00007, 00008, 00018, 000...\n",
      "3     aeruginosa  [00001, 00001, 00001, 00006, 00006, 00006, 000...\n",
      "4         infect  [00001, 00001, 00001, 00006, 00006, 00006, 000...\n",
      "...          ...                                                ...\n",
      "6690   thrombosi                                            [01235]\n",
      "6691  monospecif                                            [01236]\n",
      "6692     consent                                            [01237]\n",
      "6693      patchi                                            [01237]\n",
      "6694     theoriz                                            [01238]\n",
      "\n",
      "[6695 rows x 2 columns]\n"
     ]
    }
   ],
   "source": [
    "ger = gerador(input_path='../inputs/', results_path='../results/')\n",
    "ger.genereate_list()"
   ]
  }
 ],
 "metadata": {
  "language_info": {
   "name": "python"
  },
  "orig_nbformat": 4
 },
 "nbformat": 4,
 "nbformat_minor": 2
}
