{
 "cells": [
  {
   "cell_type": "code",
   "execution_count": 1,
   "metadata": {},
   "outputs": [],
   "source": [
    "from processador import processador\n",
    "from gerador import gerador\n",
    "from indexador import indexador\n",
    "from buscador import buscador\n",
    "import pandas as pd\n",
    "import sys\n",
    "from xml.dom import minidom\n",
    "import numpy as np\n",
    "from nltk.stem.porter import PorterStemmer\n",
    "from unidecode import unidecode\n",
    "sys.path.insert(1, '../utils')\n",
    "from read_config import read_config_file\n",
    "from nltk.tokenize import RegexpTokenizer"
   ]
  },
  {
   "cell_type": "code",
   "execution_count": null,
   "metadata": {},
   "outputs": [],
   "source": [
    "proc = processador(input_path='../inputs/', results_path='../results/')\n",
    "proc.generate_consultas()\n",
    "proc.generate_esperados()"
   ]
  },
  {
   "cell_type": "code",
   "execution_count": 4,
   "metadata": {},
   "outputs": [
    {
     "name": "stdout",
     "output_type": "stream",
     "text": [
      "Read Config File\n",
      "{'LEIA': ['cf74.xml', 'cf75.xml', 'cf76.xml', 'cf77.xml', 'cf78.xml', 'cf79.xml'], 'ESCREVA': ['listastemmer.csv'], 'USE': ['STEMMER']}\n",
      "Generete List With STEMMER\n",
      "           WORDS                                            RECORDS\n",
      "0            the  [00001, 00001, 00001, 00001, 00001, 00001, 000...\n",
      "1       signific  [00001, 00006, 00019, 00024, 00030, 00047, 000...\n",
      "2     pseudomona  [00001, 00001, 00001, 00007, 00008, 00018, 000...\n",
      "3     aeruginosa  [00001, 00001, 00001, 00006, 00006, 00006, 000...\n",
      "4         infect  [00001, 00001, 00001, 00006, 00006, 00006, 000...\n",
      "...          ...                                                ...\n",
      "6347   thrombosi                                            [01235]\n",
      "6348  monospecif                                            [01236]\n",
      "6349     consent                                            [01237]\n",
      "6350      patchi                                            [01237]\n",
      "6351     theoriz                                            [01238]\n",
      "\n",
      "[6352 rows x 2 columns]\n"
     ]
    }
   ],
   "source": [
    "ger = gerador(input_path='../inputs/', results_path='../results/')\n",
    "ger.genereate_list()"
   ]
  },
  {
   "cell_type": "code",
   "execution_count": 3,
   "metadata": {},
   "outputs": [
    {
     "name": "stdout",
     "output_type": "stream",
     "text": [
      "Read Config File\n",
      "{'LEIA': ['lista.csv'], 'ESCREVA': ['modelo.csv.gz']}\n",
      "     doc       the  significance  pseudomonas  aeruginosa  infection   \n",
      "0  00001  0.022473       0.19222     0.423875    0.421806   0.395489  \\\n",
      "1  00002  0.013484       0.00000     0.000000    0.000000   0.000000   \n",
      "2  00003  0.022473       0.00000     0.000000    0.000000   0.000000   \n",
      "3  00004  0.022473       0.00000     0.000000    0.000000   0.000000   \n",
      "4  00005  0.022473       0.00000     0.000000    0.000000   0.000000   \n",
      "\n",
      "   respiratory     tract    cystic  fibrosis  ...  monospecific  answers   \n",
      "0     0.367281  0.475601  0.006635  0.006495  ...           0.0      0.0  \\\n",
      "1     0.000000  0.000000  0.053083  0.051957  ...           0.0      0.0   \n",
      "2     0.000000  0.000000  0.018958  0.018556  ...           0.0      0.0   \n",
      "3     0.000000  0.000000  0.008847  0.008660  ...           0.0      0.0   \n",
      "4     0.000000  0.000000  0.000000  0.000000  ...           0.0      0.0   \n",
      "\n",
      "   counterpart  informed  consent  patchy  theorize  planned  appreciably   \n",
      "0          0.0       0.0      0.0     0.0       0.0      0.0          0.0  \\\n",
      "1          0.0       0.0      0.0     0.0       0.0      0.0          0.0   \n",
      "2          0.0       0.0      0.0     0.0       0.0      0.0          0.0   \n",
      "3          0.0       0.0      0.0     0.0       0.0      0.0          0.0   \n",
      "4          0.0       0.0      0.0     0.0       0.0      0.0          0.0   \n",
      "\n",
      "   theoretically  \n",
      "0            0.0  \n",
      "1            0.0  \n",
      "2            0.0  \n",
      "3            0.0  \n",
      "4            0.0  \n",
      "\n",
      "[5 rows x 9229 columns]\n"
     ]
    }
   ],
   "source": [
    "indx = indexador(input_path='../inputs/', results_path='../results/')\n",
    "indx.generate_model()"
   ]
  },
  {
   "cell_type": "code",
   "execution_count": 4,
   "metadata": {},
   "outputs": [
    {
     "name": "stdout",
     "output_type": "stream",
     "text": [
      "Read Config File\n",
      "{'MODELO': ['modelo.csv.gz'], 'CONSULTAS': ['consultas.csv'], 'RESULTADOS': ['resultados.csv'], 'USE': ['NOSTEMMER']}\n"
     ]
    }
   ],
   "source": [
    "busc = buscador(input_path='../inputs/', results_path='../results/')\n",
    "busc.search()"
   ]
  }
 ],
 "metadata": {
  "language_info": {
   "name": "python"
  },
  "orig_nbformat": 4
 },
 "nbformat": 4,
 "nbformat_minor": 2
}
