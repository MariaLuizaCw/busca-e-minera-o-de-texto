{
 "cells": [
  {
   "cell_type": "code",
   "execution_count": 1,
   "metadata": {},
   "outputs": [],
   "source": [
    "import pandas as pd\n",
    "from xml.dom import minidom\n",
    "import numpy as np\n",
    "from unidecode import unidecode\n",
    "from numpy import dot\n",
    "from numpy.linalg import norm\n",
    "sys.path.insert(1, '../utils')\n",
    "from read_config import read_config_file\n",
    "from nltk.tokenize import RegexpTokenizer"
   ]
  },
  {
   "cell_type": "code",
   "execution_count": 2,
   "metadata": {},
   "outputs": [],
   "source": [
    "inputs_path = '../inputs/'\n",
    "results_path = '../results/'"
   ]
  },
  {
   "cell_type": "markdown",
   "metadata": {},
   "source": [
    "## Read Config File"
   ]
  },
  {
   "cell_type": "code",
   "execution_count": 3,
   "metadata": {},
   "outputs": [
    {
     "data": {
      "text/plain": [
       "{'MODELO': ['modelo.csv.gz'],\n",
       " 'CONSULTAS': ['consultas.csv'],\n",
       " 'RESULTADOS': ['resultados.csv']}"
      ]
     },
     "execution_count": 3,
     "metadata": {},
     "output_type": "execute_result"
    }
   ],
   "source": [
    "config_dict = {}\n",
    "read_config_file(inputs_path + 'BUSCA.CFG', config_dict)\n",
    "config_dict"
   ]
  },
  {
   "cell_type": "markdown",
   "metadata": {},
   "source": [
    "## Read Results"
   ]
  },
  {
   "cell_type": "code",
   "execution_count": 4,
   "metadata": {},
   "outputs": [],
   "source": [
    "vector_model= pd.read_csv(results_path + config_dict['MODELO'][0], sep=';', dtype={'doc':str})\n"
   ]
  },
  {
   "cell_type": "code",
   "execution_count": 5,
   "metadata": {},
   "outputs": [],
   "source": [
    "vector_model = vector_model.set_index('doc')"
   ]
  },
  {
   "cell_type": "code",
   "execution_count": 11,
   "metadata": {},
   "outputs": [
    {
     "data": {
      "text/html": [
       "<div>\n",
       "<style scoped>\n",
       "    .dataframe tbody tr th:only-of-type {\n",
       "        vertical-align: middle;\n",
       "    }\n",
       "\n",
       "    .dataframe tbody tr th {\n",
       "        vertical-align: top;\n",
       "    }\n",
       "\n",
       "    .dataframe thead th {\n",
       "        text-align: right;\n",
       "    }\n",
       "</style>\n",
       "<table border=\"1\" class=\"dataframe\">\n",
       "  <thead>\n",
       "    <tr style=\"text-align: right;\">\n",
       "      <th></th>\n",
       "      <th>QueryNumber</th>\n",
       "      <th>QueryText</th>\n",
       "    </tr>\n",
       "  </thead>\n",
       "  <tbody>\n",
       "    <tr>\n",
       "      <th>0</th>\n",
       "      <td>00001</td>\n",
       "      <td>what are the effects of calcium on the physica...</td>\n",
       "    </tr>\n",
       "    <tr>\n",
       "      <th>1</th>\n",
       "      <td>00002</td>\n",
       "      <td>can one distinguish between the effects of muc...</td>\n",
       "    </tr>\n",
       "    <tr>\n",
       "      <th>2</th>\n",
       "      <td>00003</td>\n",
       "      <td>how are salivary glycoproteins from cf patient...</td>\n",
       "    </tr>\n",
       "    <tr>\n",
       "      <th>3</th>\n",
       "      <td>00004</td>\n",
       "      <td>what is the lipid composition of cf respirator...</td>\n",
       "    </tr>\n",
       "    <tr>\n",
       "      <th>4</th>\n",
       "      <td>00005</td>\n",
       "      <td>is cf mucus abnormal?</td>\n",
       "    </tr>\n",
       "  </tbody>\n",
       "</table>\n",
       "</div>"
      ],
      "text/plain": [
       "  QueryNumber                                          QueryText\n",
       "0       00001  what are the effects of calcium on the physica...\n",
       "1       00002  can one distinguish between the effects of muc...\n",
       "2       00003  how are salivary glycoproteins from cf patient...\n",
       "3       00004  what is the lipid composition of cf respirator...\n",
       "4       00005                              is cf mucus abnormal?"
      ]
     },
     "execution_count": 11,
     "metadata": {},
     "output_type": "execute_result"
    }
   ],
   "source": [
    "consultas= pd.read_csv(results_path + config_dict['CONSULTAS'][0], sep=';', dtype={'QueryNumber':str})\n",
    "consultas.head()"
   ]
  },
  {
   "cell_type": "code",
   "execution_count": 12,
   "metadata": {},
   "outputs": [
    {
     "data": {
      "text/plain": [
       "1215"
      ]
     },
     "execution_count": 12,
     "metadata": {},
     "output_type": "execute_result"
    }
   ],
   "source": [
    "N = vector_model.shape[0]\n",
    "N"
   ]
  },
  {
   "cell_type": "markdown",
   "metadata": {},
   "source": [
    "## Implement Buscador"
   ]
  },
  {
   "cell_type": "code",
   "execution_count": 13,
   "metadata": {},
   "outputs": [],
   "source": [
    "results = pd.DataFrame()\n",
    "tokenizer = RegexpTokenizer(r'\\w+')\n",
    "\n",
    "for index, row in consultas.iterrows():\n",
    "    num_consulta = row['QueryNumber']\n",
    "    consulta = row['QueryText']\n",
    "    tokens = tokenizer.tokenize(consulta)\n",
    "    \n",
    "    \n",
    "    tf_idf_matrix = vector_model.loc[:, vector_model.columns.isin(tokens)]\n",
    "    query_vector = np.ones(tf_idf_matrix.shape[1])\n",
    "    \n",
    "    \n",
    "    matrix_norm = tf_idf_matrix.apply(lambda x: norm(x), axis=1)\n",
    "    query_norm = norm(query_vector)\n",
    "    query_docs_distance = 1 - (tf_idf_matrix@query_vector).divide(matrix_norm*query_norm).replace(np.nan, 0)\n",
    "    \n",
    "    \n",
    "    query_docs_df = pd.DataFrame(query_docs_distance.sort_values(), columns=['distance']).reset_index()\n",
    "    query_docs_df['ranking'] = [i+1 for i in range(0, N)]\n",
    "    new_results = pd.concat([\n",
    "        pd.Series([num_consulta for i in range(0, N)]), \n",
    "        query_docs_df.loc[:, ['ranking', 'doc', 'distance']].apply(lambda x: list(x), axis=1)\n",
    "    ], axis=1)\n",
    "    \n",
    "    results = pd.concat([results, new_results])"
   ]
  },
  {
   "cell_type": "markdown",
   "metadata": {},
   "source": [
    "## Generate Results"
   ]
  },
  {
   "cell_type": "code",
   "execution_count": 14,
   "metadata": {},
   "outputs": [
    {
     "data": {
      "text/html": [
       "<div>\n",
       "<style scoped>\n",
       "    .dataframe tbody tr th:only-of-type {\n",
       "        vertical-align: middle;\n",
       "    }\n",
       "\n",
       "    .dataframe tbody tr th {\n",
       "        vertical-align: top;\n",
       "    }\n",
       "\n",
       "    .dataframe thead th {\n",
       "        text-align: right;\n",
       "    }\n",
       "</style>\n",
       "<table border=\"1\" class=\"dataframe\">\n",
       "  <thead>\n",
       "    <tr style=\"text-align: right;\">\n",
       "      <th></th>\n",
       "      <th>QueryNumber</th>\n",
       "      <th>Result</th>\n",
       "    </tr>\n",
       "  </thead>\n",
       "  <tbody>\n",
       "    <tr>\n",
       "      <th>0</th>\n",
       "      <td>00001</td>\n",
       "      <td>[1, 00568, 0.2567705545226937]</td>\n",
       "    </tr>\n",
       "    <tr>\n",
       "      <th>1</th>\n",
       "      <td>00001</td>\n",
       "      <td>[2, 00392, 0.30154363532400863]</td>\n",
       "    </tr>\n",
       "    <tr>\n",
       "      <th>2</th>\n",
       "      <td>00001</td>\n",
       "      <td>[3, 00767, 0.34648276399395195]</td>\n",
       "    </tr>\n",
       "    <tr>\n",
       "      <th>3</th>\n",
       "      <td>00001</td>\n",
       "      <td>[4, 00552, 0.3473665695005088]</td>\n",
       "    </tr>\n",
       "    <tr>\n",
       "      <th>4</th>\n",
       "      <td>00001</td>\n",
       "      <td>[5, 00043, 0.36078081267395345]</td>\n",
       "    </tr>\n",
       "    <tr>\n",
       "      <th>...</th>\n",
       "      <td>...</td>\n",
       "      <td>...</td>\n",
       "    </tr>\n",
       "    <tr>\n",
       "      <th>1210</th>\n",
       "      <td>00100</td>\n",
       "      <td>[1211, 00229, 0.7028979001133253]</td>\n",
       "    </tr>\n",
       "    <tr>\n",
       "      <th>1211</th>\n",
       "      <td>00100</td>\n",
       "      <td>[1212, 00561, 0.704207401001172]</td>\n",
       "    </tr>\n",
       "    <tr>\n",
       "      <th>1212</th>\n",
       "      <td>00100</td>\n",
       "      <td>[1213, 01007, 0.7072940040889628]</td>\n",
       "    </tr>\n",
       "    <tr>\n",
       "      <th>1213</th>\n",
       "      <td>00100</td>\n",
       "      <td>[1214, 00940, 0.7196677320148781]</td>\n",
       "    </tr>\n",
       "    <tr>\n",
       "      <th>1214</th>\n",
       "      <td>00100</td>\n",
       "      <td>[1215, 01018, 1.0]</td>\n",
       "    </tr>\n",
       "  </tbody>\n",
       "</table>\n",
       "<p>120285 rows × 2 columns</p>\n",
       "</div>"
      ],
      "text/plain": [
       "     QueryNumber                             Result\n",
       "0          00001     [1, 00568, 0.2567705545226937]\n",
       "1          00001    [2, 00392, 0.30154363532400863]\n",
       "2          00001    [3, 00767, 0.34648276399395195]\n",
       "3          00001     [4, 00552, 0.3473665695005088]\n",
       "4          00001    [5, 00043, 0.36078081267395345]\n",
       "...          ...                                ...\n",
       "1210       00100  [1211, 00229, 0.7028979001133253]\n",
       "1211       00100   [1212, 00561, 0.704207401001172]\n",
       "1212       00100  [1213, 01007, 0.7072940040889628]\n",
       "1213       00100  [1214, 00940, 0.7196677320148781]\n",
       "1214       00100                 [1215, 01018, 1.0]\n",
       "\n",
       "[120285 rows x 2 columns]"
      ]
     },
     "execution_count": 14,
     "metadata": {},
     "output_type": "execute_result"
    }
   ],
   "source": [
    "results = results.rename(columns={\n",
    "    0: 'QueryNumber',\n",
    "    1: 'Result'\n",
    "})\n",
    "results"
   ]
  },
  {
   "cell_type": "code",
   "execution_count": 15,
   "metadata": {},
   "outputs": [],
   "source": [
    "results.to_csv(results_path + config_dict['RESULTADOS'][0], sep=';', index=None)"
   ]
  }
 ],
 "metadata": {
  "language_info": {
   "name": "python"
  },
  "orig_nbformat": 4
 },
 "nbformat": 4,
 "nbformat_minor": 2
}
