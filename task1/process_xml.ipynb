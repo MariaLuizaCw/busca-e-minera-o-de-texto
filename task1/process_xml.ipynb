{
 "cells": [
  {
   "cell_type": "code",
   "execution_count": 1,
   "metadata": {},
   "outputs": [],
   "source": [
    "from xml.dom import minidom\n",
    "import xml.sax"
   ]
  },
  {
   "cell_type": "markdown",
   "metadata": {},
   "source": [
    "## Using Dom to process XML"
   ]
  },
  {
   "cell_type": "code",
   "execution_count": 3,
   "metadata": {},
   "outputs": [],
   "source": [
    "doc_a = minidom.parse(\"./input/cf79.xml\")"
   ]
  },
  {
   "cell_type": "code",
   "execution_count": 5,
   "metadata": {},
   "outputs": [],
   "source": [
    "citations = doc_a.getElementsByTagName(\"CITE\")\n",
    "\n",
    "file1 = open(\"./output/autores.xml\", \"a\")\n",
    "for cit in citations:\n",
    "    file1.write(cit.getAttribute(\"author\") + '\\n')\n",
    "    \n",
    "file1.close()"
   ]
  },
  {
   "cell_type": "markdown",
   "metadata": {},
   "source": [
    "## Using SAX to process XML"
   ]
  },
  {
   "cell_type": "code",
   "execution_count": 6,
   "metadata": {},
   "outputs": [],
   "source": [
    "class CustomContentHandler(xml.sax.ContentHandler):\n",
    "    def __init__(self):\n",
    "        self.file2 = open(\"./output/titulo.xml\", \"a\")\n",
    "    # Handle startElement\n",
    "    def startElement(self, tagName, attrs):\n",
    "        if tagName == 'CITE':\n",
    "             self.file2.write(attrs['publication']  + '\\n')\n",
    "    def endDocument(self):\n",
    "        self.file2.close()"
   ]
  },
  {
   "cell_type": "code",
   "execution_count": 7,
   "metadata": {},
   "outputs": [],
   "source": [
    "parser = xml.sax.make_parser()\n",
    "handler = CustomContentHandler()\n",
    "xml.sax.parse('./input/cf79.xml', handler)"
   ]
  }
 ],
 "metadata": {
  "language_info": {
   "name": "python"
  },
  "orig_nbformat": 4
 },
 "nbformat": 4,
 "nbformat_minor": 2
}
